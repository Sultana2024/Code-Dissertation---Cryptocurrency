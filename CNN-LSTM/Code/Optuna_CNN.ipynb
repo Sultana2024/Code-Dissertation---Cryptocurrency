{
  "nbformat": 4,
  "nbformat_minor": 0,
  "metadata": {
    "colab": {
      "provenance": [],
      "gpuType": "A100"
    },
    "kernelspec": {
      "name": "python3",
      "display_name": "Python 3"
    },
    "language_info": {
      "name": "python"
    },
    "accelerator": "GPU"
  },
  "cells": [
    {
      "cell_type": "code",
      "execution_count": null,
      "metadata": {
        "id": "l0FuZerpW-HW"
      },
      "outputs": [],
      "source": [
        "# !pip install pyts\n",
        "# !pip install tensorflow\n",
        "# !pip install numpy\n",
        "# !pip install pandas\n",
        "# !pip install optuna\n",
        "# !pip install optuna-integration[tfkeras]"
      ]
    },
    {
      "cell_type": "code",
      "source": [
        "import numpy as np\n",
        "import matplotlib.pyplot as plt\n",
        "import pandas as pd\n",
        "import optuna\n",
        "import tensorflow as tf\n",
        "\n",
        "from pyts.image import GramianAngularField, MarkovTransitionField\n",
        "from sklearn.preprocessing import MinMaxScaler\n",
        "from optuna.integration import TFKerasPruningCallback\n",
        "from tensorflow.keras import layers\n",
        "from tensorflow.keras.applications import VGG16\n",
        "from tensorflow.keras.models import Model\n",
        "from tensorflow.keras.metrics import RootMeanSquaredError\n",
        "from tensorflow.keras.layers import Input, Dense, Flatten, Conv2D, Dropout\n",
        "from tensorflow.keras.callbacks import EarlyStopping\n",
        "from tensorflow.keras.optimizers import Adam, RMSprop"
      ],
      "metadata": {
        "id": "xBQbytSIXIpf"
      },
      "execution_count": null,
      "outputs": []
    },
    {
      "cell_type": "code",
      "source": [
        "from google.colab import drive\n",
        "drive.mount('/content/drive')"
      ],
      "metadata": {
        "colab": {
          "base_uri": "https://localhost:8080/"
        },
        "id": "H_qXDALJXImL",
        "outputId": "91fb6185-8427-4938-a0df-8275be07b397"
      },
      "execution_count": null,
      "outputs": [
        {
          "output_type": "stream",
          "name": "stdout",
          "text": [
            "Mounted at /content/drive\n"
          ]
        }
      ]
    },
    {
      "cell_type": "code",
      "source": [
        "print(tf.config.list_physical_devices('GPU'))"
      ],
      "metadata": {
        "colab": {
          "base_uri": "https://localhost:8080/"
        },
        "id": "fMFs08J1XIi3",
        "outputId": "2f2db5ec-6965-4baa-ccb9-e522e2bf5e5e"
      },
      "execution_count": null,
      "outputs": [
        {
          "output_type": "stream",
          "name": "stdout",
          "text": [
            "[PhysicalDevice(name='/physical_device:GPU:0', device_type='GPU')]\n"
          ]
        }
      ]
    },
    {
      "cell_type": "code",
      "source": [
        "#################\n",
        "###   Data    ###\n",
        "#################\n",
        "\n",
        "bitcoin = pd.read_csv('/content/drive/MyDrive/Colab Notebooks/BTC_noscale.csv')\n",
        "bitcoin.drop(columns=['Crypto', 'Open', 'High', 'Low'], inplace=True)\n",
        "bitcoin.head()"
      ],
      "metadata": {
        "colab": {
          "base_uri": "https://localhost:8080/",
          "height": 204
        },
        "id": "i3gMSzDlXIe0",
        "outputId": "caf08b2a-9b18-4cac-af37-dcccd3d356c6"
      },
      "execution_count": null,
      "outputs": [
        {
          "output_type": "execute_result",
          "data": {
            "text/plain": [
              "         Date    Close\n",
              "0  2018-01-01  13535.0\n",
              "1  2018-01-02  14770.0\n",
              "2  2018-01-03  15057.0\n",
              "3  2018-01-04  14921.0\n",
              "4  2018-01-05  16828.0"
            ],
            "text/html": [
              "\n",
              "  <div id=\"df-2b84bea7-c974-4a38-a669-06301e181270\" class=\"colab-df-container\">\n",
              "    <div>\n",
              "<style scoped>\n",
              "    .dataframe tbody tr th:only-of-type {\n",
              "        vertical-align: middle;\n",
              "    }\n",
              "\n",
              "    .dataframe tbody tr th {\n",
              "        vertical-align: top;\n",
              "    }\n",
              "\n",
              "    .dataframe thead th {\n",
              "        text-align: right;\n",
              "    }\n",
              "</style>\n",
              "<table border=\"1\" class=\"dataframe\">\n",
              "  <thead>\n",
              "    <tr style=\"text-align: right;\">\n",
              "      <th></th>\n",
              "      <th>Date</th>\n",
              "      <th>Close</th>\n",
              "    </tr>\n",
              "  </thead>\n",
              "  <tbody>\n",
              "    <tr>\n",
              "      <th>0</th>\n",
              "      <td>2018-01-01</td>\n",
              "      <td>13535.0</td>\n",
              "    </tr>\n",
              "    <tr>\n",
              "      <th>1</th>\n",
              "      <td>2018-01-02</td>\n",
              "      <td>14770.0</td>\n",
              "    </tr>\n",
              "    <tr>\n",
              "      <th>2</th>\n",
              "      <td>2018-01-03</td>\n",
              "      <td>15057.0</td>\n",
              "    </tr>\n",
              "    <tr>\n",
              "      <th>3</th>\n",
              "      <td>2018-01-04</td>\n",
              "      <td>14921.0</td>\n",
              "    </tr>\n",
              "    <tr>\n",
              "      <th>4</th>\n",
              "      <td>2018-01-05</td>\n",
              "      <td>16828.0</td>\n",
              "    </tr>\n",
              "  </tbody>\n",
              "</table>\n",
              "</div>\n",
              "    <div class=\"colab-df-buttons\">\n",
              "\n",
              "  <div class=\"colab-df-container\">\n",
              "    <button class=\"colab-df-convert\" onclick=\"convertToInteractive('df-2b84bea7-c974-4a38-a669-06301e181270')\"\n",
              "            title=\"Convert this dataframe to an interactive table.\"\n",
              "            style=\"display:none;\">\n",
              "\n",
              "  <svg xmlns=\"http://www.w3.org/2000/svg\" height=\"24px\" viewBox=\"0 -960 960 960\">\n",
              "    <path d=\"M120-120v-720h720v720H120Zm60-500h600v-160H180v160Zm220 220h160v-160H400v160Zm0 220h160v-160H400v160ZM180-400h160v-160H180v160Zm440 0h160v-160H620v160ZM180-180h160v-160H180v160Zm440 0h160v-160H620v160Z\"/>\n",
              "  </svg>\n",
              "    </button>\n",
              "\n",
              "  <style>\n",
              "    .colab-df-container {\n",
              "      display:flex;\n",
              "      gap: 12px;\n",
              "    }\n",
              "\n",
              "    .colab-df-convert {\n",
              "      background-color: #E8F0FE;\n",
              "      border: none;\n",
              "      border-radius: 50%;\n",
              "      cursor: pointer;\n",
              "      display: none;\n",
              "      fill: #1967D2;\n",
              "      height: 32px;\n",
              "      padding: 0 0 0 0;\n",
              "      width: 32px;\n",
              "    }\n",
              "\n",
              "    .colab-df-convert:hover {\n",
              "      background-color: #E2EBFA;\n",
              "      box-shadow: 0px 1px 2px rgba(60, 64, 67, 0.3), 0px 1px 3px 1px rgba(60, 64, 67, 0.15);\n",
              "      fill: #174EA6;\n",
              "    }\n",
              "\n",
              "    .colab-df-buttons div {\n",
              "      margin-bottom: 4px;\n",
              "    }\n",
              "\n",
              "    [theme=dark] .colab-df-convert {\n",
              "      background-color: #3B4455;\n",
              "      fill: #D2E3FC;\n",
              "    }\n",
              "\n",
              "    [theme=dark] .colab-df-convert:hover {\n",
              "      background-color: #434B5C;\n",
              "      box-shadow: 0px 1px 3px 1px rgba(0, 0, 0, 0.15);\n",
              "      filter: drop-shadow(0px 1px 2px rgba(0, 0, 0, 0.3));\n",
              "      fill: #FFFFFF;\n",
              "    }\n",
              "  </style>\n",
              "\n",
              "    <script>\n",
              "      const buttonEl =\n",
              "        document.querySelector('#df-2b84bea7-c974-4a38-a669-06301e181270 button.colab-df-convert');\n",
              "      buttonEl.style.display =\n",
              "        google.colab.kernel.accessAllowed ? 'block' : 'none';\n",
              "\n",
              "      async function convertToInteractive(key) {\n",
              "        const element = document.querySelector('#df-2b84bea7-c974-4a38-a669-06301e181270');\n",
              "        const dataTable =\n",
              "          await google.colab.kernel.invokeFunction('convertToInteractive',\n",
              "                                                    [key], {});\n",
              "        if (!dataTable) return;\n",
              "\n",
              "        const docLinkHtml = 'Like what you see? Visit the ' +\n",
              "          '<a target=\"_blank\" href=https://colab.research.google.com/notebooks/data_table.ipynb>data table notebook</a>'\n",
              "          + ' to learn more about interactive tables.';\n",
              "        element.innerHTML = '';\n",
              "        dataTable['output_type'] = 'display_data';\n",
              "        await google.colab.output.renderOutput(dataTable, element);\n",
              "        const docLink = document.createElement('div');\n",
              "        docLink.innerHTML = docLinkHtml;\n",
              "        element.appendChild(docLink);\n",
              "      }\n",
              "    </script>\n",
              "  </div>\n",
              "\n",
              "\n",
              "    <div id=\"df-2799c22a-b143-4e51-8eaf-eaef583a9a26\">\n",
              "      <button class=\"colab-df-quickchart\" onclick=\"quickchart('df-2799c22a-b143-4e51-8eaf-eaef583a9a26')\"\n",
              "                title=\"Suggest charts\"\n",
              "                style=\"display:none;\">\n",
              "\n",
              "<svg xmlns=\"http://www.w3.org/2000/svg\" height=\"24px\"viewBox=\"0 0 24 24\"\n",
              "     width=\"24px\">\n",
              "    <g>\n",
              "        <path d=\"M19 3H5c-1.1 0-2 .9-2 2v14c0 1.1.9 2 2 2h14c1.1 0 2-.9 2-2V5c0-1.1-.9-2-2-2zM9 17H7v-7h2v7zm4 0h-2V7h2v10zm4 0h-2v-4h2v4z\"/>\n",
              "    </g>\n",
              "</svg>\n",
              "      </button>\n",
              "\n",
              "<style>\n",
              "  .colab-df-quickchart {\n",
              "      --bg-color: #E8F0FE;\n",
              "      --fill-color: #1967D2;\n",
              "      --hover-bg-color: #E2EBFA;\n",
              "      --hover-fill-color: #174EA6;\n",
              "      --disabled-fill-color: #AAA;\n",
              "      --disabled-bg-color: #DDD;\n",
              "  }\n",
              "\n",
              "  [theme=dark] .colab-df-quickchart {\n",
              "      --bg-color: #3B4455;\n",
              "      --fill-color: #D2E3FC;\n",
              "      --hover-bg-color: #434B5C;\n",
              "      --hover-fill-color: #FFFFFF;\n",
              "      --disabled-bg-color: #3B4455;\n",
              "      --disabled-fill-color: #666;\n",
              "  }\n",
              "\n",
              "  .colab-df-quickchart {\n",
              "    background-color: var(--bg-color);\n",
              "    border: none;\n",
              "    border-radius: 50%;\n",
              "    cursor: pointer;\n",
              "    display: none;\n",
              "    fill: var(--fill-color);\n",
              "    height: 32px;\n",
              "    padding: 0;\n",
              "    width: 32px;\n",
              "  }\n",
              "\n",
              "  .colab-df-quickchart:hover {\n",
              "    background-color: var(--hover-bg-color);\n",
              "    box-shadow: 0 1px 2px rgba(60, 64, 67, 0.3), 0 1px 3px 1px rgba(60, 64, 67, 0.15);\n",
              "    fill: var(--button-hover-fill-color);\n",
              "  }\n",
              "\n",
              "  .colab-df-quickchart-complete:disabled,\n",
              "  .colab-df-quickchart-complete:disabled:hover {\n",
              "    background-color: var(--disabled-bg-color);\n",
              "    fill: var(--disabled-fill-color);\n",
              "    box-shadow: none;\n",
              "  }\n",
              "\n",
              "  .colab-df-spinner {\n",
              "    border: 2px solid var(--fill-color);\n",
              "    border-color: transparent;\n",
              "    border-bottom-color: var(--fill-color);\n",
              "    animation:\n",
              "      spin 1s steps(1) infinite;\n",
              "  }\n",
              "\n",
              "  @keyframes spin {\n",
              "    0% {\n",
              "      border-color: transparent;\n",
              "      border-bottom-color: var(--fill-color);\n",
              "      border-left-color: var(--fill-color);\n",
              "    }\n",
              "    20% {\n",
              "      border-color: transparent;\n",
              "      border-left-color: var(--fill-color);\n",
              "      border-top-color: var(--fill-color);\n",
              "    }\n",
              "    30% {\n",
              "      border-color: transparent;\n",
              "      border-left-color: var(--fill-color);\n",
              "      border-top-color: var(--fill-color);\n",
              "      border-right-color: var(--fill-color);\n",
              "    }\n",
              "    40% {\n",
              "      border-color: transparent;\n",
              "      border-right-color: var(--fill-color);\n",
              "      border-top-color: var(--fill-color);\n",
              "    }\n",
              "    60% {\n",
              "      border-color: transparent;\n",
              "      border-right-color: var(--fill-color);\n",
              "    }\n",
              "    80% {\n",
              "      border-color: transparent;\n",
              "      border-right-color: var(--fill-color);\n",
              "      border-bottom-color: var(--fill-color);\n",
              "    }\n",
              "    90% {\n",
              "      border-color: transparent;\n",
              "      border-bottom-color: var(--fill-color);\n",
              "    }\n",
              "  }\n",
              "</style>\n",
              "\n",
              "      <script>\n",
              "        async function quickchart(key) {\n",
              "          const quickchartButtonEl =\n",
              "            document.querySelector('#' + key + ' button');\n",
              "          quickchartButtonEl.disabled = true;  // To prevent multiple clicks.\n",
              "          quickchartButtonEl.classList.add('colab-df-spinner');\n",
              "          try {\n",
              "            const charts = await google.colab.kernel.invokeFunction(\n",
              "                'suggestCharts', [key], {});\n",
              "          } catch (error) {\n",
              "            console.error('Error during call to suggestCharts:', error);\n",
              "          }\n",
              "          quickchartButtonEl.classList.remove('colab-df-spinner');\n",
              "          quickchartButtonEl.classList.add('colab-df-quickchart-complete');\n",
              "        }\n",
              "        (() => {\n",
              "          let quickchartButtonEl =\n",
              "            document.querySelector('#df-2799c22a-b143-4e51-8eaf-eaef583a9a26 button');\n",
              "          quickchartButtonEl.style.display =\n",
              "            google.colab.kernel.accessAllowed ? 'block' : 'none';\n",
              "        })();\n",
              "      </script>\n",
              "    </div>\n",
              "\n",
              "    </div>\n",
              "  </div>\n"
            ],
            "application/vnd.google.colaboratory.intrinsic+json": {
              "type": "dataframe",
              "variable_name": "bitcoin",
              "summary": "{\n  \"name\": \"bitcoin\",\n  \"rows\": 1977,\n  \"fields\": [\n    {\n      \"column\": \"Date\",\n      \"properties\": {\n        \"dtype\": \"object\",\n        \"num_unique_values\": 1977,\n        \"samples\": [\n          \"2023-01-02\",\n          \"2023-03-05\",\n          \"2019-11-10\"\n        ],\n        \"semantic_type\": \"\",\n        \"description\": \"\"\n      }\n    },\n    {\n      \"column\": \"Close\",\n      \"properties\": {\n        \"dtype\": \"number\",\n        \"std\": 16398.392960389865,\n        \"min\": 3188.0,\n        \"max\": 67802.0,\n        \"num_unique_values\": 1891,\n        \"samples\": [\n          24126.0,\n          37284.0,\n          8206.0\n        ],\n        \"semantic_type\": \"\",\n        \"description\": \"\"\n      }\n    }\n  ]\n}"
            }
          },
          "metadata": {},
          "execution_count": 6
        }
      ]
    },
    {
      "cell_type": "code",
      "source": [
        "#######################\n",
        "#### Input GAF/MTF ####\n",
        "#######################\n",
        "\n",
        "btc = bitcoin.iloc[:]\n",
        "\n",
        "# ------------\n",
        "# Parameters\n",
        "# ------------\n",
        "window_size = 224     # timesteps per sample\n",
        "image_size = 224      # size for GAF/MTF images\n",
        "train_ratio = 0.75    # training ratio\n",
        "\n",
        "\n",
        "# ----------------------\n",
        "# Step 1 — Normalization\n",
        "# ----------------------\n",
        "scaler = MinMaxScaler(feature_range=(0, 1))\n",
        "btc['close_scaled'] = scaler.fit_transform(btc[['Close']])\n",
        "\n",
        "# ---------------------------------\n",
        "# Step 2 — Generate sliding windows\n",
        "# ---------------------------------\n",
        "def create_sequences(series, window_size):\n",
        "    X_seq = []\n",
        "    y = []\n",
        "    for i in range(len(series) - window_size):\n",
        "        X_seq.append(series[i:i+window_size])\n",
        "        y.append(series[i+window_size])  # predict next value\n",
        "    return np.array(X_seq), np.array(y)\n",
        "\n",
        "X_seq, y = create_sequences(btc['close_scaled'].values, window_size)\n",
        "\n",
        "# ---------------------------------\n",
        "# Step 3 — GAF & MTF for CNN branch\n",
        "# ---------------------------------\n",
        "gasf = GramianAngularField(image_size=image_size, method='summation')\n",
        "gadf = GramianAngularField(image_size=image_size, method='difference')\n",
        "mtf = MarkovTransitionField(image_size=image_size)\n",
        "\n",
        "# Apply transforms to each sequence\n",
        "X_gasf = gasf.fit_transform(X_seq)\n",
        "X_gadf = gadf.fit_transform(X_seq)\n",
        "X_mtf = mtf.fit_transform(X_seq)\n",
        "\n",
        "# Stack into channels: (samples, H, W, 3)\n",
        "X_cnn = np.stack((X_gasf, X_gadf, X_mtf), axis=-1)"
      ],
      "metadata": {
        "id": "gFlCwXF1XIay"
      },
      "execution_count": null,
      "outputs": []
    },
    {
      "cell_type": "code",
      "source": [
        "n_samples = len(X_seq)\n",
        "train_end = int(n_samples * train_ratio)\n",
        "\n",
        "X_cnn_train, X_cnn_test = X_cnn[:train_end], X_cnn[train_end:]\n",
        "y_train, y_test = y[:train_end], y[train_end:]\n",
        "\n",
        "# -------------------\n",
        "# Shapes check\n",
        "# -------------------\n",
        "print(\"CNN train shape:\", X_cnn_train.shape)   # (samples, H, W, 3)\n",
        "print(\"Targets train shape:\", y_train.shape)"
      ],
      "metadata": {
        "colab": {
          "base_uri": "https://localhost:8080/"
        },
        "id": "SRjZwXkGXSxr",
        "outputId": "7c895886-e10f-4bbd-e21a-127f2852ff6f"
      },
      "execution_count": null,
      "outputs": [
        {
          "output_type": "stream",
          "name": "stdout",
          "text": [
            "CNN train shape: (1314, 224, 224, 3)\n",
            "Targets train shape: (1314,)\n"
          ]
        }
      ]
    },
    {
      "cell_type": "code",
      "source": [
        "####################\n",
        "def objective(trial):\n",
        "    conv1_filters = trial.suggest_categorical('conv1_filters', [32, 64, 128])\n",
        "    conv2_filters = trial.suggest_categorical('conv2_filters', [16, 32, 64])\n",
        "    dense_units = trial.suggest_categorical('dense_units', [64, 128, 256])\n",
        "    dropout_rate = trial.suggest_float('dropout_rate', 0.0, 0.5)\n",
        "    activation = trial.suggest_categorical('activation', ['relu', 'tanh'])\n",
        "    optimizer_choice = trial.suggest_categorical('optimizer', ['adam', 'rmsprop'])\n",
        "    learning_rate = trial.suggest_float('learning_rate', 1e-5, 1e-3, log=True)\n",
        "    batch_size = trial.suggest_categorical('batch_size', [16, 32, 64, 128])\n",
        "    epochs = trial.suggest_int('epochs', 30, 200, step=10)\n",
        "\n",
        "\n",
        "    # Adam/RMSprop\n",
        "    if optimizer_choice == 'adam':\n",
        "        optimizer = Adam(learning_rate=learning_rate)\n",
        "    else:\n",
        "        optimizer = RMSprop(learning_rate=learning_rate)\n",
        "\n",
        "    # VGG setup with input from GAF/MTF\n",
        "    input_layer = Input(shape=(224, 224, 3))\n",
        "    vgg_base = VGG16(include_top=False, weights='imagenet', input_tensor=input_layer)\n",
        "\n",
        "    # CNN + Convolution layer\n",
        "    x = vgg_base.output\n",
        "    x = Conv2D(conv1_filters, (2, 2), activation=activation)(x)\n",
        "    x = Conv2D(conv2_filters, (2, 2), activation=activation)(x)\n",
        "    x = Flatten()(x)\n",
        "    x = Dropout(dropout_rate)(x)\n",
        "    x = Dense(dense_units, activation=activation)(x)\n",
        "    output = Dense(1, activation='linear')(x)\n",
        "\n",
        "    # Build model\n",
        "    model = Model(inputs=input_layer, outputs=output)\n",
        "\n",
        "    model.compile(loss='mean_squared_error',\n",
        "                  optimizer=optimizer,\n",
        "                  metrics=['mae', RootMeanSquaredError(), 'mape'])\n",
        "\n",
        "    # Pruning\n",
        "    early_stop = EarlyStopping(monitor='val_loss', patience=5, restore_best_weights=True)\n",
        "    pruning_cb = TFKerasPruningCallback(trial, 'val_loss')\n",
        "\n",
        "    # Compile the model\n",
        "    history = model.fit(\n",
        "        X_cnn_train, y_train,\n",
        "        validation_split=0.2,\n",
        "        epochs=epochs,\n",
        "        batch_size=batch_size,\n",
        "        verbose=0,\n",
        "        callbacks=[early_stop, pruning_cb]\n",
        "    )\n",
        "\n",
        "    val_loss = min(history.history['val_loss'])\n",
        "    return val_loss\n"
      ],
      "metadata": {
        "id": "T7abm99gXSuO"
      },
      "execution_count": null,
      "outputs": []
    },
    {
      "cell_type": "code",
      "source": [
        "#### Run optuna ####\n",
        "study = optuna.create_study(direction='minimize')\n",
        "study.optimize(objective, n_trials=30)"
      ],
      "metadata": {
        "colab": {
          "base_uri": "https://localhost:8080/"
        },
        "id": "85-EJyxtXIX_",
        "outputId": "8c1ee7cb-811e-445f-9cfd-8ac5d1cab26a"
      },
      "execution_count": null,
      "outputs": [
        {
          "output_type": "stream",
          "name": "stderr",
          "text": [
            "[I 2025-09-17 12:25:20,629] A new study created in memory with name: no-name-b8aa4aff-b1fb-4a7c-a7d3-c9383db1736b\n"
          ]
        },
        {
          "output_type": "stream",
          "name": "stdout",
          "text": [
            "Downloading data from https://storage.googleapis.com/tensorflow/keras-applications/vgg16/vgg16_weights_tf_dim_ordering_tf_kernels_notop.h5\n",
            "\u001b[1m58889256/58889256\u001b[0m \u001b[32m━━━━━━━━━━━━━━━━━━━━\u001b[0m\u001b[37m\u001b[0m \u001b[1m0s\u001b[0m 0us/step\n"
          ]
        },
        {
          "output_type": "stream",
          "name": "stderr",
          "text": [
            "[I 2025-09-17 12:26:09,841] Trial 0 finished with value: 0.2845718562602997 and parameters: {'conv1_filters': 128, 'conv2_filters': 64, 'dense_units': 64, 'dropout_rate': 0.40819734342713926, 'activation': 'relu', 'optimizer': 'rmsprop', 'learning_rate': 5.201191486830627e-05, 'batch_size': 16, 'epochs': 110}. Best is trial 0 with value: 0.2845718562602997.\n",
            "[I 2025-09-17 12:27:14,376] Trial 1 finished with value: 0.029393712058663368 and parameters: {'conv1_filters': 32, 'conv2_filters': 64, 'dense_units': 128, 'dropout_rate': 0.24762526623377706, 'activation': 'relu', 'optimizer': 'rmsprop', 'learning_rate': 0.0007294662520741923, 'batch_size': 128, 'epochs': 110}. Best is trial 1 with value: 0.029393712058663368.\n",
            "[I 2025-09-17 12:27:45,506] Trial 2 finished with value: 0.19582372903823853 and parameters: {'conv1_filters': 32, 'conv2_filters': 64, 'dense_units': 128, 'dropout_rate': 0.27797872376841126, 'activation': 'relu', 'optimizer': 'adam', 'learning_rate': 0.00013529158579293695, 'batch_size': 16, 'epochs': 60}. Best is trial 1 with value: 0.029393712058663368.\n",
            "[I 2025-09-17 12:28:12,956] Trial 3 finished with value: 0.1647447794675827 and parameters: {'conv1_filters': 128, 'conv2_filters': 32, 'dense_units': 256, 'dropout_rate': 0.2706249550423687, 'activation': 'relu', 'optimizer': 'rmsprop', 'learning_rate': 0.00021925935912081522, 'batch_size': 128, 'epochs': 30}. Best is trial 1 with value: 0.029393712058663368.\n",
            "[I 2025-09-17 12:28:43,437] Trial 4 finished with value: 0.3118915855884552 and parameters: {'conv1_filters': 128, 'conv2_filters': 16, 'dense_units': 256, 'dropout_rate': 0.02262901893172381, 'activation': 'relu', 'optimizer': 'adam', 'learning_rate': 7.812220019888375e-05, 'batch_size': 16, 'epochs': 100}. Best is trial 1 with value: 0.029393712058663368.\n",
            "[I 2025-09-17 12:28:58,606] Trial 5 pruned. Trial was pruned at epoch 0.\n",
            "[I 2025-09-17 12:29:26,436] Trial 6 pruned. Trial was pruned at epoch 0.\n",
            "[I 2025-09-17 12:29:52,538] Trial 7 finished with value: 0.1982075572013855 and parameters: {'conv1_filters': 64, 'conv2_filters': 32, 'dense_units': 128, 'dropout_rate': 0.323123879728423, 'activation': 'relu', 'optimizer': 'rmsprop', 'learning_rate': 1.1166425393774859e-05, 'batch_size': 32, 'epochs': 180}. Best is trial 1 with value: 0.029393712058663368.\n",
            "[I 2025-09-17 12:30:10,740] Trial 8 pruned. Trial was pruned at epoch 0.\n",
            "[I 2025-09-17 12:30:28,481] Trial 9 pruned. Trial was pruned at epoch 0.\n",
            "[I 2025-09-17 12:31:06,496] Trial 10 pruned. Trial was pruned at epoch 0.\n",
            "[I 2025-09-17 12:31:41,669] Trial 11 finished with value: 0.21093840897083282 and parameters: {'conv1_filters': 32, 'conv2_filters': 32, 'dense_units': 256, 'dropout_rate': 0.3713829188183331, 'activation': 'relu', 'optimizer': 'rmsprop', 'learning_rate': 0.00024098277202649356, 'batch_size': 128, 'epochs': 30}. Best is trial 1 with value: 0.029393712058663368.\n",
            "[I 2025-09-17 12:31:56,571] Trial 12 pruned. Trial was pruned at epoch 0.\n",
            "[I 2025-09-17 12:32:11,216] Trial 13 pruned. Trial was pruned at epoch 0.\n",
            "[I 2025-09-17 12:32:26,190] Trial 14 pruned. Trial was pruned at epoch 0.\n",
            "[I 2025-09-17 12:32:40,983] Trial 15 pruned. Trial was pruned at epoch 0.\n",
            "[I 2025-09-17 12:32:56,419] Trial 16 pruned. Trial was pruned at epoch 0.\n",
            "[I 2025-09-17 12:33:11,302] Trial 17 pruned. Trial was pruned at epoch 0.\n",
            "[I 2025-09-17 12:33:39,226] Trial 18 finished with value: 0.10621774196624756 and parameters: {'conv1_filters': 128, 'conv2_filters': 64, 'dense_units': 256, 'dropout_rate': 0.32876754676269837, 'activation': 'relu', 'optimizer': 'adam', 'learning_rate': 0.000609995982926594, 'batch_size': 128, 'epochs': 50}. Best is trial 1 with value: 0.029393712058663368.\n",
            "[I 2025-09-17 12:33:56,795] Trial 19 pruned. Trial was pruned at epoch 0.\n",
            "[I 2025-09-17 12:34:14,368] Trial 20 pruned. Trial was pruned at epoch 0.\n",
            "[I 2025-09-17 12:34:32,033] Trial 21 pruned. Trial was pruned at epoch 0.\n",
            "[I 2025-09-17 12:34:50,630] Trial 22 pruned. Trial was pruned at epoch 0.\n",
            "[I 2025-09-17 12:35:08,066] Trial 23 pruned. Trial was pruned at epoch 0.\n",
            "[I 2025-09-17 12:35:22,920] Trial 24 pruned. Trial was pruned at epoch 0.\n",
            "[I 2025-09-17 12:35:37,595] Trial 25 pruned. Trial was pruned at epoch 0.\n",
            "[I 2025-09-17 12:35:55,188] Trial 26 pruned. Trial was pruned at epoch 0.\n",
            "[I 2025-09-17 12:36:10,392] Trial 27 pruned. Trial was pruned at epoch 0.\n",
            "[I 2025-09-17 12:36:28,197] Trial 28 pruned. Trial was pruned at epoch 0.\n",
            "[I 2025-09-17 12:36:44,441] Trial 29 pruned. Trial was pruned at epoch 0.\n"
          ]
        }
      ]
    },
    {
      "cell_type": "code",
      "source": [
        "print(\"Best trial:\")\n",
        "trial = study.best_trial\n",
        "\n",
        "print(f\"  Loss: {trial.value}\")\n",
        "print(\"  Params: \")\n",
        "for key, value in trial.params.items():\n",
        "    print(f\"    {key}: {value}\")"
      ],
      "metadata": {
        "colab": {
          "base_uri": "https://localhost:8080/"
        },
        "id": "cUVt94BvXZPA",
        "outputId": "fe51eba1-025f-4398-89bf-4df3a5d323e0"
      },
      "execution_count": null,
      "outputs": [
        {
          "output_type": "stream",
          "name": "stdout",
          "text": [
            "Best trial:\n",
            "  Loss: 0.029393712058663368\n",
            "  Params: \n",
            "    conv1_filters: 32\n",
            "    conv2_filters: 64\n",
            "    dense_units: 128\n",
            "    dropout_rate: 0.24762526623377706\n",
            "    activation: relu\n",
            "    optimizer: rmsprop\n",
            "    learning_rate: 0.0007294662520741923\n",
            "    batch_size: 128\n",
            "    epochs: 110\n"
          ]
        }
      ]
    },
    {
      "cell_type": "code",
      "source": [
        "from google.colab import files\n",
        "\n",
        "results_cnn = study.trials_dataframe()\n",
        "results_cnn.to_csv('optuna_cnn_results.csv', index=False)\n",
        "\n",
        "files.download('optuna_cnn_results.csv')"
      ],
      "metadata": {
        "colab": {
          "base_uri": "https://localhost:8080/",
          "height": 17
        },
        "id": "PAR3dgsFXdMP",
        "outputId": "857206c5-74ca-4294-f89d-1b94f6fca60f"
      },
      "execution_count": null,
      "outputs": [
        {
          "output_type": "display_data",
          "data": {
            "text/plain": [
              "<IPython.core.display.Javascript object>"
            ],
            "application/javascript": [
              "\n",
              "    async function download(id, filename, size) {\n",
              "      if (!google.colab.kernel.accessAllowed) {\n",
              "        return;\n",
              "      }\n",
              "      const div = document.createElement('div');\n",
              "      const label = document.createElement('label');\n",
              "      label.textContent = `Downloading \"${filename}\": `;\n",
              "      div.appendChild(label);\n",
              "      const progress = document.createElement('progress');\n",
              "      progress.max = size;\n",
              "      div.appendChild(progress);\n",
              "      document.body.appendChild(div);\n",
              "\n",
              "      const buffers = [];\n",
              "      let downloaded = 0;\n",
              "\n",
              "      const channel = await google.colab.kernel.comms.open(id);\n",
              "      // Send a message to notify the kernel that we're ready.\n",
              "      channel.send({})\n",
              "\n",
              "      for await (const message of channel.messages) {\n",
              "        // Send a message to notify the kernel that we're ready.\n",
              "        channel.send({})\n",
              "        if (message.buffers) {\n",
              "          for (const buffer of message.buffers) {\n",
              "            buffers.push(buffer);\n",
              "            downloaded += buffer.byteLength;\n",
              "            progress.value = downloaded;\n",
              "          }\n",
              "        }\n",
              "      }\n",
              "      const blob = new Blob(buffers, {type: 'application/binary'});\n",
              "      const a = document.createElement('a');\n",
              "      a.href = window.URL.createObjectURL(blob);\n",
              "      a.download = filename;\n",
              "      div.appendChild(a);\n",
              "      a.click();\n",
              "      div.remove();\n",
              "    }\n",
              "  "
            ]
          },
          "metadata": {}
        },
        {
          "output_type": "display_data",
          "data": {
            "text/plain": [
              "<IPython.core.display.Javascript object>"
            ],
            "application/javascript": [
              "download(\"download_2e42f194-a0fa-4f41-ba85-f54d334b729d\", \"optuna_cnn_results.csv\", 5559)"
            ]
          },
          "metadata": {}
        }
      ]
    },
    {
      "cell_type": "code",
      "source": [
        "# Best results after 4 runs of the optimisation\n",
        "\n",
        "# Best trial:\n",
        "#   Loss: 0.029393712058663368\n",
        "#   Params:\n",
        "#     conv1_filters: 32\n",
        "#     conv2_filters: 64\n",
        "#     dense_units: 128\n",
        "#     dropout_rate: 0.24762526623377706\n",
        "#     activation: relu\n",
        "#     optimizer: rmsprop\n",
        "#     learning_rate: 0.0007294662520741923\n",
        "#     batch_size: 128\n",
        "#     epochs: 110\n",
        "\n",
        "# Best trial:\n",
        "#   Loss: 0.02948707714676857\n",
        "#   Params:\n",
        "#     conv1_filters: 128\n",
        "#     conv2_filters: 64\n",
        "#     dense_units: 128\n",
        "#     dropout_rate: 0.29145153405423596\n",
        "#     activation: tanh\n",
        "#     optimizer: adam\n",
        "#     learning_rate: 0.0004047368844376192\n",
        "#     batch_size: 64\n",
        "#     epochs: 80\n",
        "\n",
        "# Best trial:\n",
        "#   Loss: 0.03042406029999256\n",
        "#   Params:\n",
        "#     conv1_filters: 128\n",
        "#     conv2_filters: 32\n",
        "#     dense_units: 128\n",
        "#     dropout_rate: 0.12376764732686152\n",
        "#     activation: tanh\n",
        "#     optimizer: rmsprop\n",
        "#     learning_rate: 0.0006722258813630644\n",
        "#     batch_size: 64\n",
        "#     epochs: 120\n",
        "\n",
        "# Best trial:\n",
        "#   Loss: 0.09799350053071976\n",
        "#   Params:\n",
        "#     conv1_filters: 32\n",
        "#     conv2_filters: 16\n",
        "#     dense_units: 128\n",
        "#     dropout_rate: 0.3929329850769902\n",
        "#     activation: tanh\n",
        "#     optimizer: rmsprop\n",
        "#     learning_rate: 0.0001689385972851931\n",
        "#     batch_size: 16\n",
        "#     epochs: 40\n"
      ],
      "metadata": {
        "id": "yBBW37Pr8Aze"
      },
      "execution_count": null,
      "outputs": []
    }
  ]
}